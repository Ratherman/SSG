{
 "cells": [
  {
   "cell_type": "markdown",
   "id": "c20c8bae",
   "metadata": {},
   "source": [
    "# Step 1: Import lib"
   ]
  },
  {
   "cell_type": "code",
   "execution_count": 3,
   "id": "b6dc11fd",
   "metadata": {},
   "outputs": [],
   "source": [
    "from tqdm import tqdm\n",
    "import matplotlib.pyplot as plt\n",
    "import torch as torch # core lib for deep learning methods\n",
    "import time as time   # maybe I will use time to test how long a piece of code takes\n",
    "import numpy as np    # it's likely that we use numpy to perform matrix manipulation\n",
    "import cv2 as cv      # image I/O\n",
    "import os as os"
   ]
  },
  {
   "cell_type": "markdown",
   "id": "717db463",
   "metadata": {},
   "source": [
    "# Step 2: Build custom class for the dataset\n",
    "* ref: https://pytorch.org/tutorials/beginner/basics/data_tutorial.html\n",
    "* Custom Dataset needs at least the following 3 methods:\n",
    "    1. `__init__`: This function is run once when instantiating the Dataset object.\n",
    "    2. `__len__`: This function returns the number of samples in our dataset.\n",
    "        * At least, dataloader will need to call this function.\n",
    "    3. `__getitem__`: This function loads and returns a sample from the dataset at the given index (i.e., `idx`)."
   ]
  },
  {
   "cell_type": "code",
   "execution_count": 18,
   "id": "3459903d",
   "metadata": {},
   "outputs": [],
   "source": [
    "from torch.utils.data import Dataset\n",
    "\n",
    "class CAT_DOG_DATASET(Dataset):\n",
    "    \n",
    "    def __init__(self, img_dir, img_size, x_transform=None, y_transform=None):\n",
    "        \n",
    "        self.img_dir = img_dir\n",
    "        self.img_size = img_size\n",
    "        self.x_transform = x_transform\n",
    "        self.y_transform = y_transform\n",
    "        \n",
    "        self.imgs = os.listdir(self.img_dir)\n",
    "        self.len = len(self.imgs)\n",
    "        self.ans_list = list()\n",
    "        self.img_path_list = list()\n",
    "        self.__loop_through_dir__()\n",
    "\n",
    "    def __len__(self):\n",
    "        return self.len\n",
    "    \n",
    "    def __getitem__(self, idx):\n",
    "        \n",
    "        # input: image\n",
    "        img_path = self.img_path_list[idx]\n",
    "        image = cv.imread(img_path)\n",
    "        image = cv.resize(image, (img_size, img_size))\n",
    "        image = image / 255.\n",
    "        if self.x_transform:\n",
    "            image = self.x_transform(image)\n",
    "        \n",
    "        # output: label\n",
    "        label = self.ans_list[idx]\n",
    "        if self.y_transform:\n",
    "            label = self.y_transform(label)\n",
    "        \n",
    "        return image, label\n",
    "    \n",
    "    def __loop_through_dir__(self,):\n",
    "            \n",
    "            for img_name in tqdm(self.imgs):\n",
    "                \n",
    "                img_path = self.img_dir + img_name\n",
    "                self.img_path_list.append(img_path)\n",
    "                \n",
    "                ans = img_name.split(\".\")[0]\n",
    "                if ans == \"cat\":\n",
    "                    self.ans_list.append(0)\n",
    "                else: # ans == \"dog\"\n",
    "                    self.ans_list.append(1)\n"
   ]
  },
  {
   "cell_type": "markdown",
   "id": "0d8801a5",
   "metadata": {},
   "source": [
    "# Step 3: Setup dataloader"
   ]
  },
  {
   "cell_type": "code",
   "execution_count": 19,
   "id": "2b495ba4",
   "metadata": {},
   "outputs": [],
   "source": [
    "train_dir_path = \"../../Dataset/Cat_and_Dog/train/train/\"\n",
    "#os.listdir(\"../../Dataset/Cat_and_Dog/train/train/\")"
   ]
  },
  {
   "cell_type": "code",
   "execution_count": 25,
   "id": "b7f9e4bd",
   "metadata": {},
   "outputs": [
    {
     "name": "stderr",
     "output_type": "stream",
     "text": [
      "100%|███████████████████████████████████████████████| 25000/25000 [00:00<00:00, 572076.40it/s]\n"
     ]
    }
   ],
   "source": [
    "from torch.utils.data import DataLoader\n",
    "\n",
    "train_dir_path = \"../../Dataset/Cat_and_Dog/train/train/\"\n",
    "img_size = 256\n",
    "\n",
    "tran_dataset = CAT_DOG_DATASET(img_dir=train_dir_path, img_size=img_size)\n",
    "tran_loader = DataLoader(tran_dataset, batch_size=64, shuffle=True)\n",
    "\n",
    "#dataset_test = CAT_DOG_DATASET(img_dir=\"./test\")\n",
    "#test_loader = DataLoader(dataset_test, batch_size=64)"
   ]
  },
  {
   "cell_type": "markdown",
   "id": "f0d84dfa",
   "metadata": {},
   "source": [
    "# Step 4: Get device for training\n",
    "* ref: https://pytorch.org/tutorials/beginner/basics/buildmodel_tutorial.html"
   ]
  },
  {
   "cell_type": "code",
   "execution_count": 3,
   "id": "419421c9",
   "metadata": {},
   "outputs": [
    {
     "name": "stdout",
     "output_type": "stream",
     "text": [
      "Using cpu device\n"
     ]
    }
   ],
   "source": [
    "device = \"cuda\" if torch.cuda.is_available() else \"cpu\"\n",
    "print(f\"Using {device} device\")"
   ]
  },
  {
   "cell_type": "markdown",
   "id": "4f622b90",
   "metadata": {},
   "source": [
    "# Step 5: Define the class (for model)\n",
    "* `nn.Conv2d`: https://pytorch.org/docs/stable/generated/torch.nn.Conv2d.html\n",
    "* `nn.Linear`: https://pytorch.org/docs/stable/generated/torch.nn.Linear.html#torch.nn.Linear\n",
    "* [calculator](https://madebyollin.github.io/convnet-calculator/) for `width`, `height`, `channels`, `stride`, `padding`"
   ]
  },
  {
   "cell_type": "code",
   "execution_count": 23,
   "id": "e6af7444",
   "metadata": {},
   "outputs": [],
   "source": [
    "from torch import nn\n",
    "\n",
    "class CNN_v1(nn.Module):\n",
    "    \n",
    "    def __init__(self, img_size): # I add one more param here, i.e., img_size, for changing CNN structure auto\n",
    "        super(CNN_v1, self).__init__()\n",
    "        \n",
    "        self.img_size = img_size # assume (B, C=3, H=256, W=256)\n",
    "        \n",
    "        self.cspec = [3, 64, 32, 16] # cspec stands for conv spec\n",
    "        self.fspec = [128, 64, 1] # fspec stands for fully connected layer spec\n",
    "\n",
    "        self.repeat_conv = nn.Sequential(\n",
    "\n",
    "            # 換換不同的寫法 v1\n",
    "            nn.Conv2d(\n",
    "                in_channels = self.cspec[0],\n",
    "                out_channels = self.cspec[1],\n",
    "                kernel_size = (3, 3), # this could be tuple, i.e., (3,3), or just integer i.e., 3.\n",
    "                stride = 2, # based on the calculator mentioned above, this setting will make spatial size half\n",
    "                padding = 1 # i.e., 256 x 256 -> 128 x 128 \n",
    "            ), # (B, C=64, H=128, W=128)\n",
    "            \n",
    "            nn.MaxPool2d(kernel_size=2), # (B, C=64, H=64, W=64)\n",
    "\n",
    "            # 換換不同的寫法 v2\n",
    "            nn.Conv2d(in_channels=self.cspec[1], out_channels=self.cspec[2], kernel_size=(3, 3), stride=2, padding=1), # (B, C=32, H=32, W=32)\n",
    "            \n",
    "            nn.MaxPool2d(kernel_size=2), # (B, C=32, H=16, W=16)\n",
    "            \n",
    "            nn.Conv2d(in_channels=self.cspec[2], out_channels=self.cspec[3], kernel_size=(3, 3), stride=2, padding=1), # (B, C=16, H=8, W=8)\n",
    "        )\n",
    "\n",
    "        self.flatten = nn.Flatten()\n",
    "\n",
    "        # 需要優化 #\n",
    "        C = 16\n",
    "        H = 8\n",
    "        W = H # assume square\n",
    "        self.repeat_dense = nn.Sequential(\n",
    "            nn.Linear(in_features= C*H*W, out_features=self.fspec[0]),\n",
    "            nn.Linear(in_features= self.fspec[0], out_features=self.fspec[1]),\n",
    "            nn.Linear(in_features= self.fspec[1], out_features=self.fspec[2]),\n",
    "        )\n",
    "    \n",
    "    def forward(self, img):\n",
    "        feature_map = self.repeat_conv(img)\n",
    "        features = self.flatten(feature_map)\n",
    "        logits = self.repeat_dense(features)\n",
    "        return logits\n",
    "    \n",
    "def test():\n",
    "    batch_size = 10\n",
    "    channel_num = 3\n",
    "    img_size = 256\n",
    "\n",
    "    CNN_model = CNN_v1(img_size=img_size)\n",
    "    \n",
    "    # Usually use torch.randn to test if model can work as expected\n",
    "    input_img = torch.randn(batch_size, channel_num, img_size, img_size) # (batch_size, channel, width, height)\n",
    "    \n",
    "    output_val= CNN_model(input_img)\n",
    "    \n",
    "    assert output_val.detach().numpy().shape == (batch_size, 1)"
   ]
  },
  {
   "cell_type": "markdown",
   "id": "89b7d0f1",
   "metadata": {},
   "source": [
    "# Step 6: Hyperparamter setting"
   ]
  },
  {
   "cell_type": "code",
   "execution_count": null,
   "id": "ad38b43b",
   "metadata": {},
   "outputs": [],
   "source": [
    "learning_rate = 1e-3\n",
    "batch_size = 64\n",
    "epochs = 5"
   ]
  },
  {
   "cell_type": "markdown",
   "id": "685ce6b4",
   "metadata": {},
   "source": [
    "# Step 7: Loss function\n",
    "* `BCELoss`: https://pytorch.org/docs/stable/generated/torch.nn.BCELoss.html"
   ]
  },
  {
   "cell_type": "code",
   "execution_count": 26,
   "id": "ddcb1a37",
   "metadata": {},
   "outputs": [],
   "source": [
    "loss = torch.nn.BCELoss()"
   ]
  },
  {
   "cell_type": "markdown",
   "id": "3c1ac6ac",
   "metadata": {},
   "source": [
    "# Step 8: Setup Model"
   ]
  },
  {
   "cell_type": "code",
   "execution_count": 27,
   "id": "a6a4d2f4",
   "metadata": {},
   "outputs": [],
   "source": [
    "CNN_model = CNN_v1(img_size=img_size)"
   ]
  },
  {
   "cell_type": "markdown",
   "id": "516f259a",
   "metadata": {},
   "source": [
    "# Step 8: Optimization process"
   ]
  },
  {
   "cell_type": "code",
   "execution_count": 28,
   "id": "2f736761",
   "metadata": {},
   "outputs": [],
   "source": [
    "def train_loop(dataloader, model, loss_fn, optimizer):\n",
    "    pass"
   ]
  },
  {
   "cell_type": "code",
   "execution_count": null,
   "id": "374a4a5f",
   "metadata": {},
   "outputs": [],
   "source": []
  }
 ],
 "metadata": {
  "kernelspec": {
   "display_name": "Python 3 (ipykernel)",
   "language": "python",
   "name": "python3"
  },
  "language_info": {
   "codemirror_mode": {
    "name": "ipython",
    "version": 3
   },
   "file_extension": ".py",
   "mimetype": "text/x-python",
   "name": "python",
   "nbconvert_exporter": "python",
   "pygments_lexer": "ipython3",
   "version": "3.7.0"
  }
 },
 "nbformat": 4,
 "nbformat_minor": 5
}
