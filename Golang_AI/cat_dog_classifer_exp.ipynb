{
 "cells": [
  {
   "cell_type": "markdown",
   "id": "c20c8bae",
   "metadata": {},
   "source": [
    "# Step 1: Import lib"
   ]
  },
  {
   "cell_type": "code",
   "execution_count": 4,
   "id": "b6dc11fd",
   "metadata": {},
   "outputs": [],
   "source": [
    "from tqdm import tqdm\n",
    "import matplotlib.pyplot as plt\n",
    "import torch as torch # core lib for deep learning methods\n",
    "import time as time   # maybe I will use time to test how long a piece of code takes\n",
    "import numpy as np    # it's likely that we use numpy to perform matrix manipulation\n",
    "import cv2 as cv      # image I/O\n",
    "import os as os"
   ]
  },
  {
   "cell_type": "markdown",
   "id": "717db463",
   "metadata": {},
   "source": [
    "# Step 2: Build custom class for the dataset\n",
    "* ref: https://pytorch.org/tutorials/beginner/basics/data_tutorial.html\n",
    "* Custom Dataset needs at least the following 3 methods:\n",
    "    1. `__init__`: This function is run once when instantiating the Dataset object.\n",
    "    2. `__len__`: This function returns the number of samples in our dataset.\n",
    "        * At least, dataloader will need to call this function.\n",
    "    3. `__getitem__`: This function loads and returns a sample from the dataset at the given index (i.e., `idx`)."
   ]
  },
  {
   "cell_type": "code",
   "execution_count": 30,
   "id": "5b059b43",
   "metadata": {},
   "outputs": [
    {
     "data": {
      "text/plain": [
       "(3, 3, 5)"
      ]
     },
     "execution_count": 30,
     "metadata": {},
     "output_type": "execute_result"
    }
   ],
   "source": [
    "np.random.random((3,3,5)).shape"
   ]
  },
  {
   "cell_type": "code",
   "execution_count": 31,
   "id": "3459903d",
   "metadata": {},
   "outputs": [],
   "source": [
    "from torch.utils.data import Dataset\n",
    "\n",
    "class CAT_DOG_DATASET(Dataset):\n",
    "    \n",
    "    def __init__(self, img_dir, img_size, x_transform=None, y_transform=None):\n",
    "        \n",
    "        self.img_dir = img_dir\n",
    "        self.img_size = img_size\n",
    "        self.x_transform = x_transform\n",
    "        self.y_transform = y_transform\n",
    "        \n",
    "        self.imgs = os.listdir(self.img_dir)\n",
    "        self.len = len(self.imgs)\n",
    "        self.ans_list = list()\n",
    "        self.img_path_list = list()\n",
    "        self.__loop_through_dir__()\n",
    "\n",
    "    def __len__(self):\n",
    "        return self.len\n",
    "    \n",
    "    def __getitem__(self, idx):\n",
    "        \n",
    "        # input: image\n",
    "        img_path = self.img_path_list[idx]\n",
    "        image = cv.imread(img_path)\n",
    "        image = cv.resize(image, (img_size, img_size))\n",
    "        image = image / 255.\n",
    "        if self.x_transform:\n",
    "            image = self.x_transform(image)\n",
    "        \n",
    "        # channel first\n",
    "        image = image.reshape(3, img_size, img_size)\n",
    "        \n",
    "        # output: label\n",
    "        label = self.ans_list[idx]\n",
    "        if self.y_transform:\n",
    "            label = self.y_transform(label)\n",
    "        \n",
    "        return image, label\n",
    "    \n",
    "    def __loop_through_dir__(self,):\n",
    "            \n",
    "            for img_name in tqdm(self.imgs):\n",
    "                \n",
    "                img_path = self.img_dir + img_name\n",
    "                self.img_path_list.append(img_path)\n",
    "                \n",
    "                ans = img_name.split(\".\")[0]\n",
    "                if ans == \"cat\":\n",
    "                    self.ans_list.append(0)\n",
    "                else: # ans == \"dog\"\n",
    "                    self.ans_list.append(1)\n"
   ]
  },
  {
   "cell_type": "markdown",
   "id": "0d8801a5",
   "metadata": {},
   "source": [
    "# Step 3: Setup dataloader"
   ]
  },
  {
   "cell_type": "code",
   "execution_count": 32,
   "id": "2b495ba4",
   "metadata": {},
   "outputs": [],
   "source": [
    "train_dir_path = \"../../Dataset/Cat_and_Dog/train/train/\"\n",
    "#os.listdir(\"../../Dataset/Cat_and_Dog/train/train/\")"
   ]
  },
  {
   "cell_type": "code",
   "execution_count": 33,
   "id": "b7f9e4bd",
   "metadata": {},
   "outputs": [
    {
     "name": "stderr",
     "output_type": "stream",
     "text": [
      "100%|███████████████████████████████████████| 25000/25000 [00:00<00:00, 1071878.64it/s]\n"
     ]
    }
   ],
   "source": [
    "from torch.utils.data import DataLoader\n",
    "\n",
    "train_dir_path = \"../../Dataset/Cat_and_Dog/train/train/\"\n",
    "img_size = 256\n",
    "\n",
    "tran_dataset = CAT_DOG_DATASET(img_dir=train_dir_path, img_size=img_size)\n",
    "tran_loader = DataLoader(tran_dataset, batch_size=64, shuffle=True)\n",
    "\n",
    "#dataset_test = CAT_DOG_DATASET(img_dir=\"./test\")\n",
    "#test_loader = DataLoader(dataset_test, batch_size=64)"
   ]
  },
  {
   "cell_type": "markdown",
   "id": "f0d84dfa",
   "metadata": {},
   "source": [
    "# Step 4: Get device for training\n",
    "* ref: https://pytorch.org/tutorials/beginner/basics/buildmodel_tutorial.html"
   ]
  },
  {
   "cell_type": "code",
   "execution_count": 34,
   "id": "419421c9",
   "metadata": {},
   "outputs": [
    {
     "name": "stdout",
     "output_type": "stream",
     "text": [
      "Using cpu device\n"
     ]
    }
   ],
   "source": [
    "device = \"cuda\" if torch.cuda.is_available() else \"cpu\"\n",
    "print(f\"Using {device} device\")"
   ]
  },
  {
   "cell_type": "markdown",
   "id": "4f622b90",
   "metadata": {},
   "source": [
    "# Step 5: Define the class (for model)\n",
    "* `nn.Conv2d`: https://pytorch.org/docs/stable/generated/torch.nn.Conv2d.html\n",
    "* `nn.Linear`: https://pytorch.org/docs/stable/generated/torch.nn.Linear.html#torch.nn.Linear\n",
    "* [calculator](https://madebyollin.github.io/convnet-calculator/) for `width`, `height`, `channels`, `stride`, `padding`"
   ]
  },
  {
   "cell_type": "code",
   "execution_count": 57,
   "id": "e6af7444",
   "metadata": {},
   "outputs": [],
   "source": [
    "from torch import nn\n",
    "\n",
    "class CNN_v1(nn.Module):\n",
    "    \n",
    "    def __init__(self, img_size): # I add one more param here, i.e., img_size, for changing CNN structure auto\n",
    "        super(CNN_v1, self).__init__()\n",
    "        \n",
    "        self.img_size = img_size # assume (B, C=3, H=256, W=256)\n",
    "        \n",
    "        self.cspec = [3, 64, 32, 16] # cspec stands for conv spec\n",
    "        self.fspec = [128, 64, 1] # fspec stands for fully connected layer spec\n",
    "\n",
    "        self.repeat_conv = nn.Sequential(\n",
    "\n",
    "            # 換換不同的寫法 v1\n",
    "            nn.Conv2d(\n",
    "                in_channels = self.cspec[0],\n",
    "                out_channels = self.cspec[1],\n",
    "                kernel_size = (3, 3), # this could be tuple, i.e., (3,3), or just integer i.e., 3.\n",
    "                stride = 2, # based on the calculator mentioned above, this setting will make spatial size half\n",
    "                padding = 1 # i.e., 256 x 256 -> 128 x 128 \n",
    "            ), # (B, C=64, H=128, W=128)\n",
    "            \n",
    "            nn.MaxPool2d(kernel_size=2), # (B, C=64, H=64, W=64)\n",
    "\n",
    "            # 換換不同的寫法 v2\n",
    "            nn.Conv2d(in_channels=self.cspec[1], out_channels=self.cspec[2], kernel_size=(3, 3), stride=2, padding=1), # (B, C=32, H=32, W=32)\n",
    "            \n",
    "            nn.MaxPool2d(kernel_size=2), # (B, C=32, H=16, W=16)\n",
    "            \n",
    "            nn.Conv2d(in_channels=self.cspec[2], out_channels=self.cspec[3], kernel_size=(3, 3), stride=2, padding=1), # (B, C=16, H=8, W=8)\n",
    "        )\n",
    "\n",
    "        self.flatten = nn.Flatten()\n",
    "\n",
    "        # 需要優化 #\n",
    "        C = 16\n",
    "        H = 8\n",
    "        W = H # assume square\n",
    "        self.repeat_dense = nn.Sequential(\n",
    "            nn.Linear(in_features= C*H*W, out_features=self.fspec[0]),\n",
    "            nn.Linear(in_features= self.fspec[0], out_features=self.fspec[1]),\n",
    "            nn.Linear(in_features= self.fspec[1], out_features=self.fspec[2]),\n",
    "        )\n",
    "        \n",
    "        self.sigmoid = nn.Sigmoid()\n",
    "    \n",
    "    def forward(self, img):\n",
    "        feature_map = self.repeat_conv(img)\n",
    "        features = self.flatten(feature_map)\n",
    "        logits = self.repeat_dense(features)\n",
    "        probabilities = self.sigmoid(logits)\n",
    "        return probabilities\n",
    "    \n",
    "def test():\n",
    "    batch_size = 10\n",
    "    channel_num = 3\n",
    "    img_size = 256\n",
    "\n",
    "    CNN_model = CNN_v1(img_size=img_size)\n",
    "    \n",
    "    # Usually use torch.randn to test if model can work as expected\n",
    "    input_img = torch.randn(batch_size, channel_num, img_size, img_size) # (batch_size, channel, width, height)\n",
    "    \n",
    "    output_val= CNN_model(input_img)\n",
    "    \n",
    "    assert output_val.detach().numpy().shape == (batch_size, 1)"
   ]
  },
  {
   "cell_type": "markdown",
   "id": "89b7d0f1",
   "metadata": {},
   "source": [
    "# Step 6: Hyperparamter setting"
   ]
  },
  {
   "cell_type": "code",
   "execution_count": 58,
   "id": "ad38b43b",
   "metadata": {},
   "outputs": [],
   "source": [
    "learning_rate = 1e-3\n",
    "batch_size = 64\n",
    "epochs = 5"
   ]
  },
  {
   "cell_type": "markdown",
   "id": "685ce6b4",
   "metadata": {},
   "source": [
    "# Step 7: Loss function\n",
    "* `BCELoss`: https://pytorch.org/docs/stable/generated/torch.nn.BCELoss.html"
   ]
  },
  {
   "cell_type": "code",
   "execution_count": 59,
   "id": "ddcb1a37",
   "metadata": {},
   "outputs": [],
   "source": [
    "# binary cross entropy loss\n",
    "bce_loss = torch.nn.BCELoss()"
   ]
  },
  {
   "cell_type": "markdown",
   "id": "3c1ac6ac",
   "metadata": {},
   "source": [
    "# Step 8: Setup Model"
   ]
  },
  {
   "cell_type": "code",
   "execution_count": 60,
   "id": "a6a4d2f4",
   "metadata": {},
   "outputs": [],
   "source": [
    "CNN_model = CNN_v1(img_size=img_size)"
   ]
  },
  {
   "cell_type": "markdown",
   "id": "cccbfa61",
   "metadata": {},
   "source": [
    "# Step 9: Choose optimizer"
   ]
  },
  {
   "cell_type": "code",
   "execution_count": 61,
   "id": "1b8ccfc6",
   "metadata": {},
   "outputs": [],
   "source": [
    "sgd_optimizer = torch.optim.SGD(CNN_model.parameters(), lr=learning_rate)"
   ]
  },
  {
   "cell_type": "markdown",
   "id": "516f259a",
   "metadata": {},
   "source": [
    "# Step 9: Optimization process\n",
    "* ref: https://pytorch.org/tutorials/beginner/basics/optimization_tutorial.html\n",
    "* ref2: https://discuss.pytorch.org/t/expected-object-of-scalar-type-double-but-got-scalar-type-float-for-argument-3-mat1-in-call-to-th-addmm/109332"
   ]
  },
  {
   "cell_type": "code",
   "execution_count": 66,
   "id": "2f736761",
   "metadata": {},
   "outputs": [],
   "source": [
    "def train_loop(dataloader, model, loss_fn, optimizer):\n",
    "    \n",
    "    size = len(dataloader.dataset)\n",
    "    \n",
    "    for batch, (X, y) in tqdm(enumerate(dataloader)):\n",
    "        \n",
    "        # derive prediction\n",
    "        pred = model(X.float()) # Wondering about X.float()? check ref2\n",
    "        loss = loss_fn(pred, y.float())\n",
    "        \n",
    "        # backward propagation\n",
    "        optimizer.zero_grad()\n",
    "        loss.backward()\n",
    "        optimizer.step()\n",
    "        \n",
    "        if batch % 100 == 0:\n",
    "            loss, current = loss.item(), batch * len(X)\n",
    "            print(f\"loss: {loss:>7f} [{current:>5d}/{size:>5d}]\")"
   ]
  },
  {
   "cell_type": "code",
   "execution_count": 65,
   "id": "374a4a5f",
   "metadata": {},
   "outputs": [
    {
     "name": "stdout",
     "output_type": "stream",
     "text": [
      "Epoch 1\n",
      "----------------------------\n"
     ]
    },
    {
     "name": "stderr",
     "output_type": "stream",
     "text": [
      "1it [00:00,  1.55it/s]"
     ]
    },
    {
     "name": "stdout",
     "output_type": "stream",
     "text": [
      "loss: 0.692704 [    0/  391]\n"
     ]
    },
    {
     "name": "stderr",
     "output_type": "stream",
     "text": [
      "101it [01:04,  1.58it/s]"
     ]
    },
    {
     "name": "stdout",
     "output_type": "stream",
     "text": [
      "loss: 0.693342 [ 6400/  391]\n"
     ]
    },
    {
     "name": "stderr",
     "output_type": "stream",
     "text": [
      "201it [02:09,  1.53it/s]"
     ]
    },
    {
     "name": "stdout",
     "output_type": "stream",
     "text": [
      "loss: 0.688099 [12800/  391]\n"
     ]
    },
    {
     "name": "stderr",
     "output_type": "stream",
     "text": [
      "213it [02:18,  1.54it/s]\n"
     ]
    },
    {
     "ename": "KeyboardInterrupt",
     "evalue": "",
     "output_type": "error",
     "traceback": [
      "\u001b[0;31m---------------------------------------------------------------------------\u001b[0m",
      "\u001b[0;31mKeyboardInterrupt\u001b[0m                         Traceback (most recent call last)",
      "\u001b[0;32m/tmp/ipykernel_6341/3446618625.py\u001b[0m in \u001b[0;36m<module>\u001b[0;34m\u001b[0m\n\u001b[1;32m      1\u001b[0m \u001b[0;32mfor\u001b[0m \u001b[0mt\u001b[0m \u001b[0;32min\u001b[0m \u001b[0mrange\u001b[0m\u001b[0;34m(\u001b[0m\u001b[0mepochs\u001b[0m\u001b[0;34m)\u001b[0m\u001b[0;34m:\u001b[0m\u001b[0;34m\u001b[0m\u001b[0m\n\u001b[1;32m      2\u001b[0m     \u001b[0mprint\u001b[0m\u001b[0;34m(\u001b[0m\u001b[0;34mf\"Epoch {t+1}\\n----------------------------\"\u001b[0m\u001b[0;34m)\u001b[0m\u001b[0;34m\u001b[0m\u001b[0m\n\u001b[0;32m----> 3\u001b[0;31m     \u001b[0mtrain_loop\u001b[0m\u001b[0;34m(\u001b[0m\u001b[0mtran_loader\u001b[0m\u001b[0;34m,\u001b[0m \u001b[0mCNN_model\u001b[0m\u001b[0;34m,\u001b[0m \u001b[0mbce_loss\u001b[0m\u001b[0;34m,\u001b[0m \u001b[0msgd_optimizer\u001b[0m\u001b[0;34m)\u001b[0m\u001b[0;34m\u001b[0m\u001b[0m\n\u001b[0m\u001b[1;32m      4\u001b[0m \u001b[0mprint\u001b[0m\u001b[0;34m(\u001b[0m\u001b[0;34m\"Done\"\u001b[0m\u001b[0;34m)\u001b[0m\u001b[0;34m\u001b[0m\u001b[0m\n",
      "\u001b[0;32m/tmp/ipykernel_6341/2998253958.py\u001b[0m in \u001b[0;36mtrain_loop\u001b[0;34m(dataloader, model, loss_fn, optimizer)\u001b[0m\n\u001b[1;32m      6\u001b[0m \u001b[0;34m\u001b[0m\u001b[0m\n\u001b[1;32m      7\u001b[0m         \u001b[0;31m# derive prediction\u001b[0m\u001b[0;34m\u001b[0m\u001b[0;34m\u001b[0m\u001b[0m\n\u001b[0;32m----> 8\u001b[0;31m         \u001b[0mpred\u001b[0m \u001b[0;34m=\u001b[0m \u001b[0mmodel\u001b[0m\u001b[0;34m(\u001b[0m\u001b[0mX\u001b[0m\u001b[0;34m.\u001b[0m\u001b[0mfloat\u001b[0m\u001b[0;34m(\u001b[0m\u001b[0;34m)\u001b[0m\u001b[0;34m)\u001b[0m \u001b[0;31m# Wondering about X.float()? check ref2\u001b[0m\u001b[0;34m\u001b[0m\u001b[0m\n\u001b[0m\u001b[1;32m      9\u001b[0m         \u001b[0mloss\u001b[0m \u001b[0;34m=\u001b[0m \u001b[0mloss_fn\u001b[0m\u001b[0;34m(\u001b[0m\u001b[0mpred\u001b[0m\u001b[0;34m,\u001b[0m \u001b[0my\u001b[0m\u001b[0;34m.\u001b[0m\u001b[0mfloat\u001b[0m\u001b[0;34m(\u001b[0m\u001b[0;34m)\u001b[0m\u001b[0;34m)\u001b[0m\u001b[0;34m\u001b[0m\u001b[0m\n\u001b[1;32m     10\u001b[0m \u001b[0;34m\u001b[0m\u001b[0m\n",
      "\u001b[0;32m~/anaconda3/envs/Golang_AI/lib/python3.7/site-packages/torch/nn/modules/module.py\u001b[0m in \u001b[0;36m__call__\u001b[0;34m(self, *input, **kwargs)\u001b[0m\n\u001b[1;32m    530\u001b[0m             \u001b[0mresult\u001b[0m \u001b[0;34m=\u001b[0m \u001b[0mself\u001b[0m\u001b[0;34m.\u001b[0m\u001b[0m_slow_forward\u001b[0m\u001b[0;34m(\u001b[0m\u001b[0;34m*\u001b[0m\u001b[0minput\u001b[0m\u001b[0;34m,\u001b[0m \u001b[0;34m**\u001b[0m\u001b[0mkwargs\u001b[0m\u001b[0;34m)\u001b[0m\u001b[0;34m\u001b[0m\u001b[0m\n\u001b[1;32m    531\u001b[0m         \u001b[0;32melse\u001b[0m\u001b[0;34m:\u001b[0m\u001b[0;34m\u001b[0m\u001b[0m\n\u001b[0;32m--> 532\u001b[0;31m             \u001b[0mresult\u001b[0m \u001b[0;34m=\u001b[0m \u001b[0mself\u001b[0m\u001b[0;34m.\u001b[0m\u001b[0mforward\u001b[0m\u001b[0;34m(\u001b[0m\u001b[0;34m*\u001b[0m\u001b[0minput\u001b[0m\u001b[0;34m,\u001b[0m \u001b[0;34m**\u001b[0m\u001b[0mkwargs\u001b[0m\u001b[0;34m)\u001b[0m\u001b[0;34m\u001b[0m\u001b[0m\n\u001b[0m\u001b[1;32m    533\u001b[0m         \u001b[0;32mfor\u001b[0m \u001b[0mhook\u001b[0m \u001b[0;32min\u001b[0m \u001b[0mself\u001b[0m\u001b[0;34m.\u001b[0m\u001b[0m_forward_hooks\u001b[0m\u001b[0;34m.\u001b[0m\u001b[0mvalues\u001b[0m\u001b[0;34m(\u001b[0m\u001b[0;34m)\u001b[0m\u001b[0;34m:\u001b[0m\u001b[0;34m\u001b[0m\u001b[0m\n\u001b[1;32m    534\u001b[0m             \u001b[0mhook_result\u001b[0m \u001b[0;34m=\u001b[0m \u001b[0mhook\u001b[0m\u001b[0;34m(\u001b[0m\u001b[0mself\u001b[0m\u001b[0;34m,\u001b[0m \u001b[0minput\u001b[0m\u001b[0;34m,\u001b[0m \u001b[0mresult\u001b[0m\u001b[0;34m)\u001b[0m\u001b[0;34m\u001b[0m\u001b[0m\n",
      "\u001b[0;32m/tmp/ipykernel_6341/1696608322.py\u001b[0m in \u001b[0;36mforward\u001b[0;34m(self, img)\u001b[0m\n\u001b[1;32m     47\u001b[0m \u001b[0;34m\u001b[0m\u001b[0m\n\u001b[1;32m     48\u001b[0m     \u001b[0;32mdef\u001b[0m \u001b[0mforward\u001b[0m\u001b[0;34m(\u001b[0m\u001b[0mself\u001b[0m\u001b[0;34m,\u001b[0m \u001b[0mimg\u001b[0m\u001b[0;34m)\u001b[0m\u001b[0;34m:\u001b[0m\u001b[0;34m\u001b[0m\u001b[0m\n\u001b[0;32m---> 49\u001b[0;31m         \u001b[0mfeature_map\u001b[0m \u001b[0;34m=\u001b[0m \u001b[0mself\u001b[0m\u001b[0;34m.\u001b[0m\u001b[0mrepeat_conv\u001b[0m\u001b[0;34m(\u001b[0m\u001b[0mimg\u001b[0m\u001b[0;34m)\u001b[0m\u001b[0;34m\u001b[0m\u001b[0m\n\u001b[0m\u001b[1;32m     50\u001b[0m         \u001b[0mfeatures\u001b[0m \u001b[0;34m=\u001b[0m \u001b[0mself\u001b[0m\u001b[0;34m.\u001b[0m\u001b[0mflatten\u001b[0m\u001b[0;34m(\u001b[0m\u001b[0mfeature_map\u001b[0m\u001b[0;34m)\u001b[0m\u001b[0;34m\u001b[0m\u001b[0m\n\u001b[1;32m     51\u001b[0m         \u001b[0mlogits\u001b[0m \u001b[0;34m=\u001b[0m \u001b[0mself\u001b[0m\u001b[0;34m.\u001b[0m\u001b[0mrepeat_dense\u001b[0m\u001b[0;34m(\u001b[0m\u001b[0mfeatures\u001b[0m\u001b[0;34m)\u001b[0m\u001b[0;34m\u001b[0m\u001b[0m\n",
      "\u001b[0;32m~/anaconda3/envs/Golang_AI/lib/python3.7/site-packages/torch/nn/modules/module.py\u001b[0m in \u001b[0;36m__call__\u001b[0;34m(self, *input, **kwargs)\u001b[0m\n\u001b[1;32m    530\u001b[0m             \u001b[0mresult\u001b[0m \u001b[0;34m=\u001b[0m \u001b[0mself\u001b[0m\u001b[0;34m.\u001b[0m\u001b[0m_slow_forward\u001b[0m\u001b[0;34m(\u001b[0m\u001b[0;34m*\u001b[0m\u001b[0minput\u001b[0m\u001b[0;34m,\u001b[0m \u001b[0;34m**\u001b[0m\u001b[0mkwargs\u001b[0m\u001b[0;34m)\u001b[0m\u001b[0;34m\u001b[0m\u001b[0m\n\u001b[1;32m    531\u001b[0m         \u001b[0;32melse\u001b[0m\u001b[0;34m:\u001b[0m\u001b[0;34m\u001b[0m\u001b[0m\n\u001b[0;32m--> 532\u001b[0;31m             \u001b[0mresult\u001b[0m \u001b[0;34m=\u001b[0m \u001b[0mself\u001b[0m\u001b[0;34m.\u001b[0m\u001b[0mforward\u001b[0m\u001b[0;34m(\u001b[0m\u001b[0;34m*\u001b[0m\u001b[0minput\u001b[0m\u001b[0;34m,\u001b[0m \u001b[0;34m**\u001b[0m\u001b[0mkwargs\u001b[0m\u001b[0;34m)\u001b[0m\u001b[0;34m\u001b[0m\u001b[0m\n\u001b[0m\u001b[1;32m    533\u001b[0m         \u001b[0;32mfor\u001b[0m \u001b[0mhook\u001b[0m \u001b[0;32min\u001b[0m \u001b[0mself\u001b[0m\u001b[0;34m.\u001b[0m\u001b[0m_forward_hooks\u001b[0m\u001b[0;34m.\u001b[0m\u001b[0mvalues\u001b[0m\u001b[0;34m(\u001b[0m\u001b[0;34m)\u001b[0m\u001b[0;34m:\u001b[0m\u001b[0;34m\u001b[0m\u001b[0m\n\u001b[1;32m    534\u001b[0m             \u001b[0mhook_result\u001b[0m \u001b[0;34m=\u001b[0m \u001b[0mhook\u001b[0m\u001b[0;34m(\u001b[0m\u001b[0mself\u001b[0m\u001b[0;34m,\u001b[0m \u001b[0minput\u001b[0m\u001b[0;34m,\u001b[0m \u001b[0mresult\u001b[0m\u001b[0;34m)\u001b[0m\u001b[0;34m\u001b[0m\u001b[0m\n",
      "\u001b[0;32m~/anaconda3/envs/Golang_AI/lib/python3.7/site-packages/torch/nn/modules/container.py\u001b[0m in \u001b[0;36mforward\u001b[0;34m(self, input)\u001b[0m\n\u001b[1;32m     98\u001b[0m     \u001b[0;32mdef\u001b[0m \u001b[0mforward\u001b[0m\u001b[0;34m(\u001b[0m\u001b[0mself\u001b[0m\u001b[0;34m,\u001b[0m \u001b[0minput\u001b[0m\u001b[0;34m)\u001b[0m\u001b[0;34m:\u001b[0m\u001b[0;34m\u001b[0m\u001b[0m\n\u001b[1;32m     99\u001b[0m         \u001b[0;32mfor\u001b[0m \u001b[0mmodule\u001b[0m \u001b[0;32min\u001b[0m \u001b[0mself\u001b[0m\u001b[0;34m:\u001b[0m\u001b[0;34m\u001b[0m\u001b[0m\n\u001b[0;32m--> 100\u001b[0;31m             \u001b[0minput\u001b[0m \u001b[0;34m=\u001b[0m \u001b[0mmodule\u001b[0m\u001b[0;34m(\u001b[0m\u001b[0minput\u001b[0m\u001b[0;34m)\u001b[0m\u001b[0;34m\u001b[0m\u001b[0m\n\u001b[0m\u001b[1;32m    101\u001b[0m         \u001b[0;32mreturn\u001b[0m \u001b[0minput\u001b[0m\u001b[0;34m\u001b[0m\u001b[0m\n\u001b[1;32m    102\u001b[0m \u001b[0;34m\u001b[0m\u001b[0m\n",
      "\u001b[0;32m~/anaconda3/envs/Golang_AI/lib/python3.7/site-packages/torch/nn/modules/module.py\u001b[0m in \u001b[0;36m__call__\u001b[0;34m(self, *input, **kwargs)\u001b[0m\n\u001b[1;32m    530\u001b[0m             \u001b[0mresult\u001b[0m \u001b[0;34m=\u001b[0m \u001b[0mself\u001b[0m\u001b[0;34m.\u001b[0m\u001b[0m_slow_forward\u001b[0m\u001b[0;34m(\u001b[0m\u001b[0;34m*\u001b[0m\u001b[0minput\u001b[0m\u001b[0;34m,\u001b[0m \u001b[0;34m**\u001b[0m\u001b[0mkwargs\u001b[0m\u001b[0;34m)\u001b[0m\u001b[0;34m\u001b[0m\u001b[0m\n\u001b[1;32m    531\u001b[0m         \u001b[0;32melse\u001b[0m\u001b[0;34m:\u001b[0m\u001b[0;34m\u001b[0m\u001b[0m\n\u001b[0;32m--> 532\u001b[0;31m             \u001b[0mresult\u001b[0m \u001b[0;34m=\u001b[0m \u001b[0mself\u001b[0m\u001b[0;34m.\u001b[0m\u001b[0mforward\u001b[0m\u001b[0;34m(\u001b[0m\u001b[0;34m*\u001b[0m\u001b[0minput\u001b[0m\u001b[0;34m,\u001b[0m \u001b[0;34m**\u001b[0m\u001b[0mkwargs\u001b[0m\u001b[0;34m)\u001b[0m\u001b[0;34m\u001b[0m\u001b[0m\n\u001b[0m\u001b[1;32m    533\u001b[0m         \u001b[0;32mfor\u001b[0m \u001b[0mhook\u001b[0m \u001b[0;32min\u001b[0m \u001b[0mself\u001b[0m\u001b[0;34m.\u001b[0m\u001b[0m_forward_hooks\u001b[0m\u001b[0;34m.\u001b[0m\u001b[0mvalues\u001b[0m\u001b[0;34m(\u001b[0m\u001b[0;34m)\u001b[0m\u001b[0;34m:\u001b[0m\u001b[0;34m\u001b[0m\u001b[0m\n\u001b[1;32m    534\u001b[0m             \u001b[0mhook_result\u001b[0m \u001b[0;34m=\u001b[0m \u001b[0mhook\u001b[0m\u001b[0;34m(\u001b[0m\u001b[0mself\u001b[0m\u001b[0;34m,\u001b[0m \u001b[0minput\u001b[0m\u001b[0;34m,\u001b[0m \u001b[0mresult\u001b[0m\u001b[0;34m)\u001b[0m\u001b[0;34m\u001b[0m\u001b[0m\n",
      "\u001b[0;32m~/anaconda3/envs/Golang_AI/lib/python3.7/site-packages/torch/nn/modules/conv.py\u001b[0m in \u001b[0;36mforward\u001b[0;34m(self, input)\u001b[0m\n\u001b[1;32m    343\u001b[0m \u001b[0;34m\u001b[0m\u001b[0m\n\u001b[1;32m    344\u001b[0m     \u001b[0;32mdef\u001b[0m \u001b[0mforward\u001b[0m\u001b[0;34m(\u001b[0m\u001b[0mself\u001b[0m\u001b[0;34m,\u001b[0m \u001b[0minput\u001b[0m\u001b[0;34m)\u001b[0m\u001b[0;34m:\u001b[0m\u001b[0;34m\u001b[0m\u001b[0m\n\u001b[0;32m--> 345\u001b[0;31m         \u001b[0;32mreturn\u001b[0m \u001b[0mself\u001b[0m\u001b[0;34m.\u001b[0m\u001b[0mconv2d_forward\u001b[0m\u001b[0;34m(\u001b[0m\u001b[0minput\u001b[0m\u001b[0;34m,\u001b[0m \u001b[0mself\u001b[0m\u001b[0;34m.\u001b[0m\u001b[0mweight\u001b[0m\u001b[0;34m)\u001b[0m\u001b[0;34m\u001b[0m\u001b[0m\n\u001b[0m\u001b[1;32m    346\u001b[0m \u001b[0;34m\u001b[0m\u001b[0m\n\u001b[1;32m    347\u001b[0m \u001b[0;32mclass\u001b[0m \u001b[0mConv3d\u001b[0m\u001b[0;34m(\u001b[0m\u001b[0m_ConvNd\u001b[0m\u001b[0;34m)\u001b[0m\u001b[0;34m:\u001b[0m\u001b[0;34m\u001b[0m\u001b[0m\n",
      "\u001b[0;32m~/anaconda3/envs/Golang_AI/lib/python3.7/site-packages/torch/nn/modules/conv.py\u001b[0m in \u001b[0;36mconv2d_forward\u001b[0;34m(self, input, weight)\u001b[0m\n\u001b[1;32m    340\u001b[0m                             _pair(0), self.dilation, self.groups)\n\u001b[1;32m    341\u001b[0m         return F.conv2d(input, weight, self.bias, self.stride,\n\u001b[0;32m--> 342\u001b[0;31m                         self.padding, self.dilation, self.groups)\n\u001b[0m\u001b[1;32m    343\u001b[0m \u001b[0;34m\u001b[0m\u001b[0m\n\u001b[1;32m    344\u001b[0m     \u001b[0;32mdef\u001b[0m \u001b[0mforward\u001b[0m\u001b[0;34m(\u001b[0m\u001b[0mself\u001b[0m\u001b[0;34m,\u001b[0m \u001b[0minput\u001b[0m\u001b[0;34m)\u001b[0m\u001b[0;34m:\u001b[0m\u001b[0;34m\u001b[0m\u001b[0m\n",
      "\u001b[0;31mKeyboardInterrupt\u001b[0m: "
     ]
    }
   ],
   "source": [
    "for t in range(epochs):\n",
    "    print(f\"Epoch {t+1}\\n----------------------------\")\n",
    "    train_loop(tran_loader, CNN_model, bce_loss, sgd_optimizer)\n",
    "print(\"Done\")"
   ]
  },
  {
   "cell_type": "code",
   "execution_count": null,
   "id": "0c5bae68",
   "metadata": {},
   "outputs": [],
   "source": []
  },
  {
   "cell_type": "code",
   "execution_count": null,
   "id": "35abf1c5",
   "metadata": {},
   "outputs": [],
   "source": []
  }
 ],
 "metadata": {
  "kernelspec": {
   "display_name": "Python 3 (ipykernel)",
   "language": "python",
   "name": "python3"
  },
  "language_info": {
   "codemirror_mode": {
    "name": "ipython",
    "version": 3
   },
   "file_extension": ".py",
   "mimetype": "text/x-python",
   "name": "python",
   "nbconvert_exporter": "python",
   "pygments_lexer": "ipython3",
   "version": "3.7.0"
  }
 },
 "nbformat": 4,
 "nbformat_minor": 5
}
