{
 "cells": [
  {
   "cell_type": "markdown",
   "id": "c20c8bae",
   "metadata": {},
   "source": [
    "# Step 1: Import lib"
   ]
  },
  {
   "cell_type": "code",
   "execution_count": null,
   "id": "b6dc11fd",
   "metadata": {},
   "outputs": [],
   "source": [
    "from tqdm import tqdm\n",
    "import matplotlib.pyplot as plt\n",
    "import torch as torch # core lib for deep learning methods\n",
    "import time as time   # maybe I will use time to test how long a piece of code takes\n",
    "import numpy as np    # it's likely that we use numpy to perform matrix manipulation\n",
    "import cv2 as cv      # image I/O\n",
    "import os as os"
   ]
  },
  {
   "cell_type": "markdown",
   "id": "717db463",
   "metadata": {},
   "source": [
    "# Step 2: Build custom class for the dataset\n",
    "* ref: https://pytorch.org/tutorials/beginner/basics/data_tutorial.html\n",
    "* Custom Dataset needs at least the following 3 methods:\n",
    "    1. `__init__`: This function is run once when instantiating the Dataset object.\n",
    "    2. `__len__`: This function returns the number of samples in our dataset.\n",
    "        * At least, dataloader will need to call this function.\n",
    "    3. `__getitem__`: This function loads and returns a sample from the dataset at the given index (i.e., `idx`)."
   ]
  },
  {
   "cell_type": "code",
   "execution_count": null,
   "id": "3459903d",
   "metadata": {},
   "outputs": [],
   "source": [
    "from torch.utils.data import Dataset\n",
    "\n",
    "class CAT_DOG_DATASET(Dataset):\n",
    "    \n",
    "    def __init__(self, img_dir, img_size, x_transform=None, y_transform=None):\n",
    "        \n",
    "        self.img_dir = img_dir\n",
    "        self.img_size = img_size\n",
    "        self.x_transform = x_transform\n",
    "        self.y_transform = y_transform\n",
    "        \n",
    "        self.imgs = os.listdir(self.img_dir)\n",
    "        self.len = len(self.imgs)\n",
    "        self.ans_list = list()\n",
    "        self.img_path_list = list()\n",
    "        self.__loop_through_dir__()\n",
    "\n",
    "    def __len__(self):\n",
    "        return self.len\n",
    "    \n",
    "    def __getitem__(self, idx):\n",
    "        \n",
    "        # input: image\n",
    "        img_path = self.img_path_list[idx]\n",
    "        image = self.__preprocess__(img_path)\n",
    "        \n",
    "        # output: label\n",
    "        label = self.ans_list[idx]\n",
    "        if self.y_transform:\n",
    "            label = self.y_transform(label)\n",
    "        \n",
    "        return image, label\n",
    "    \n",
    "    def __preprocess__(self, img_path):\n",
    "        \n",
    "        image = cv.imread(img_path)\n",
    "        image = cv.resize(image, (img_size, img_size))\n",
    "        image = image / 255.\n",
    "        \n",
    "        # channel first\n",
    "        if self.x_transform:\n",
    "            image = self.x_transform(image)\n",
    "        \n",
    "        image = image.reshape(3, img_size, img_size)\n",
    "        return image\n",
    "    \n",
    "    def __loop_through_dir__(self):\n",
    "\n",
    "        cat_count = 0\n",
    "        dog_count = 0\n",
    "        for img_name in tqdm(self.imgs):\n",
    "\n",
    "            img_path = self.img_dir + img_name\n",
    "            self.img_path_list.append(img_path)\n",
    "\n",
    "            ans = img_name.split(\".\")[0]\n",
    "            if ans == \"cat\":\n",
    "                self.ans_list.append(0)\n",
    "                cat_count = cat_count + 1\n",
    "            else: # ans == \"dog\"\n",
    "                self.ans_list.append(1)\n",
    "                dog_count = dog_count + 1\n",
    "        print(f\"# of cats: {cat_count}\")\n",
    "        print(f\"# of dogs: {dog_count}\")\n"
   ]
  },
  {
   "cell_type": "markdown",
   "id": "89b7d0f1",
   "metadata": {},
   "source": [
    "# Step 3: Hyperparamter setting"
   ]
  },
  {
   "cell_type": "code",
   "execution_count": null,
   "id": "ad38b43b",
   "metadata": {},
   "outputs": [],
   "source": [
    "learning_rate = 1e-4\n",
    "batch_size = 128\n",
    "epochs = 30\n",
    "model_path = './model/CNN_model_weights.pth'\n",
    "train_dir_path = \"../../Dataset/Cat_and_Dog/train/train/\"\n",
    "img_size = 128"
   ]
  },
  {
   "cell_type": "markdown",
   "id": "0d8801a5",
   "metadata": {},
   "source": [
    "# Step 4: Setup dataloader"
   ]
  },
  {
   "cell_type": "code",
   "execution_count": null,
   "id": "b7f9e4bd",
   "metadata": {},
   "outputs": [],
   "source": [
    "from torch.utils.data import DataLoader\n",
    "\n",
    "tran_dataset = CAT_DOG_DATASET(img_dir=train_dir_path, img_size=img_size)\n",
    "tran_loader = DataLoader(tran_dataset, batch_size=batch_size, shuffle=True)"
   ]
  },
  {
   "cell_type": "markdown",
   "id": "f0d84dfa",
   "metadata": {},
   "source": [
    "# Step 5: Get device for training\n",
    "* ref: https://pytorch.org/tutorials/beginner/basics/buildmodel_tutorial.html"
   ]
  },
  {
   "cell_type": "code",
   "execution_count": null,
   "id": "419421c9",
   "metadata": {},
   "outputs": [],
   "source": [
    "device = \"cuda\" if torch.cuda.is_available() else \"cpu\"\n",
    "print(f\"Using {device} device\")"
   ]
  },
  {
   "cell_type": "markdown",
   "id": "4f622b90",
   "metadata": {},
   "source": [
    "# Step 6: Define the class (for model)\n",
    "* `nn.Conv2d`: https://pytorch.org/docs/stable/generated/torch.nn.Conv2d.html\n",
    "* `nn.Linear`: https://pytorch.org/docs/stable/generated/torch.nn.Linear.html#torch.nn.Linear\n",
    "* [calculator](https://madebyollin.github.io/convnet-calculator/) for `width`, `height`, `channels`, `stride`, `padding`"
   ]
  },
  {
   "cell_type": "code",
   "execution_count": null,
   "id": "e6af7444",
   "metadata": {},
   "outputs": [],
   "source": [
    "from torch import nn\n",
    "\n",
    "class CNN_v1(nn.Module):\n",
    "    \n",
    "    def __init__(self, img_size): # I add one more param here, i.e., img_size, for changing CNN structure auto\n",
    "        super(CNN_v1, self).__init__()\n",
    "        \n",
    "        self.img_size = img_size # assume (B, C=3, H=256, W=256)\n",
    "        \n",
    "        self.cspec = [3, 64, 128, 256, 512, 1024, 512, 256] # cspec stands for conv spec\n",
    "        self.fspec = [128, 64, 1] # fspec stands for fully connected layer spec\n",
    "\n",
    "        self.repeat_conv = nn.Sequential(\n",
    "\n",
    "            # 換換不同的寫法 v1\n",
    "            nn.Conv2d(\n",
    "                in_channels = self.cspec[0],\n",
    "                out_channels = self.cspec[1],\n",
    "                kernel_size = (3, 3), # this could be tuple, i.e., (3,3), or just integer i.e., 3.\n",
    "                stride = 2, # based on the calculator mentioned above, this setting will make spatial size half\n",
    "                padding = 1 \n",
    "            ),\n",
    "            nn.ReLU(),                   # (B, C=  64, H=128, W=128)\n",
    "            nn.BatchNorm2d(self.cspec[1]),\n",
    "\n",
    "            # 換換不同的寫法 v2\n",
    "            nn.Conv2d(in_channels=self.cspec[1], out_channels=self.cspec[2], kernel_size=(3, 3), stride=2, padding=1), \n",
    "            nn.ReLU(),                   # (B, C= 128, H= 64, W= 64)\n",
    "            nn.BatchNorm2d(self.cspec[2]),\n",
    "            \n",
    "            nn.Conv2d(in_channels=self.cspec[2], out_channels=self.cspec[3], kernel_size=(3, 3), stride=2, padding=1), \n",
    "            nn.ReLU(),                   # (B, C= 256, H= 32, W= 32)\n",
    "            nn.BatchNorm2d(self.cspec[3]),\n",
    "            \n",
    "            nn.Conv2d(in_channels=self.cspec[3], out_channels=self.cspec[4], kernel_size=(3, 3), stride=2, padding=1), \n",
    "            nn.ReLU(),                   # (B, C= 512, H= 16, W= 16)\n",
    "            nn.BatchNorm2d(self.cspec[4]),\n",
    "            \n",
    "            nn.Conv2d(in_channels=self.cspec[4], out_channels=self.cspec[5], kernel_size=(3, 3), stride=2, padding=1), \n",
    "            nn.ReLU(),                   # (B, C=1024, H=  8, W=  8)\n",
    "            nn.BatchNorm2d(self.cspec[5]),\n",
    "        \n",
    "            nn.Conv2d(in_channels=self.cspec[5], out_channels=self.cspec[6], kernel_size=(3, 3), stride=2, padding=1), \n",
    "            nn.ReLU(),                   # (B, C= 512, H=  4, W=  4)\n",
    "            nn.BatchNorm2d(self.cspec[6]),\n",
    "            \n",
    "            nn.Conv2d(in_channels=self.cspec[6], out_channels=self.cspec[7], kernel_size=(3, 3), stride=2, padding=1), \n",
    "            nn.ReLU(),                   # (B, C= 256, H=  2, W=  2)\n",
    "            nn.BatchNorm2d(self.cspec[7]),\n",
    "        )\n",
    "\n",
    "        self.flatten = nn.Flatten()\n",
    "\n",
    "        # 需要優化 #\n",
    "        C = 256\n",
    "        H = 1\n",
    "        W = H # assume square\n",
    "        self.repeat_dense = nn.Sequential(\n",
    "            nn.Linear(in_features= C*H*W, out_features=self.fspec[0]),\n",
    "            nn.ReLU(),\n",
    "            nn.Linear(in_features= self.fspec[0], out_features=self.fspec[1]),\n",
    "            nn.ReLU(),\n",
    "            nn.Linear(in_features= self.fspec[1], out_features=self.fspec[2]),\n",
    "        )\n",
    "                    \n",
    "    def forward(self, img):\n",
    "        feature_map = self.repeat_conv(img)\n",
    "        features = self.flatten(feature_map)\n",
    "        logits = self.repeat_dense(features)\n",
    "        return logits\n",
    "    \n",
    "def test():\n",
    "    batch_size = 10\n",
    "    channel_num = 3\n",
    "    img_size = 128\n",
    "\n",
    "    CNN_model = CNN_v1(img_size=img_size)\n",
    "    \n",
    "    # Usually use torch.randn to test if model can work as expected\n",
    "    input_img = torch.randn(batch_size, channel_num, img_size, img_size) # (batch_size, channel, width, height)\n",
    "    \n",
    "    output_val= CNN_model(input_img)\n",
    "    \n",
    "    assert output_val.detach().numpy().shape == (batch_size, 1)\n",
    "    \n",
    "test()"
   ]
  },
  {
   "cell_type": "markdown",
   "id": "685ce6b4",
   "metadata": {},
   "source": [
    "# Step 7: Loss function\n",
    "* `BCELoss`: https://pytorch.org/docs/stable/generated/torch.nn.BCELoss.html\n",
    "* `BCEWithLogitsLoss`: https://pytorch.org/docs/stable/generated/torch.nn.BCEWithLogitsLoss.html"
   ]
  },
  {
   "cell_type": "code",
   "execution_count": null,
   "id": "ddcb1a37",
   "metadata": {},
   "outputs": [],
   "source": [
    "# binary cross entropy loss\n",
    "bce_loss = torch.nn.BCEWithLogitsLoss()\n",
    "#bce_loss = torch.nn.BCELoss()"
   ]
  },
  {
   "cell_type": "markdown",
   "id": "3c1ac6ac",
   "metadata": {},
   "source": [
    "# Step 8: Setup Model"
   ]
  },
  {
   "cell_type": "code",
   "execution_count": null,
   "id": "a6a4d2f4",
   "metadata": {},
   "outputs": [],
   "source": [
    "CNN_model = CNN_v1(img_size=img_size).to(device)\n",
    "print(CNN_model)"
   ]
  },
  {
   "cell_type": "markdown",
   "id": "6dab9856",
   "metadata": {},
   "source": [
    "# Step 9: Choose optimizer"
   ]
  },
  {
   "cell_type": "code",
   "execution_count": null,
   "id": "0b2b9676",
   "metadata": {},
   "outputs": [],
   "source": [
    "adam_optimizer = torch.optim.Adam(CNN_model.parameters(), lr=learning_rate)"
   ]
  },
  {
   "cell_type": "markdown",
   "id": "516f259a",
   "metadata": {},
   "source": [
    "# Step 10: Optimization process\n",
    "* ref: https://pytorch.org/tutorials/beginner/basics/optimization_tutorial.html\n",
    "* ref2: https://discuss.pytorch.org/t/expected-object-of-scalar-type-double-but-got-scalar-type-float-for-argument-3-mat1-in-call-to-th-addmm/109332\n",
    "* ref3: https://stackoverflow.com/questions/57798033/valueerror-target-size-torch-size16-must-be-the-same-as-input-size-torch"
   ]
  },
  {
   "cell_type": "code",
   "execution_count": null,
   "id": "2f736761",
   "metadata": {},
   "outputs": [],
   "source": [
    "def train_loop(dataloader, model, loss_fn, optimizer):\n",
    "    \n",
    "    size = len(dataloader.dataset)\n",
    "    loss_list = list()\n",
    "    \n",
    "    for batch, (X, y) in tqdm(enumerate(dataloader)):\n",
    "        X = X.to(device)\n",
    "        y = y.to(device)\n",
    "        \n",
    "        # derive prediction\n",
    "        pred = model(X.float()) # Wondering about X.float()? check ref2\n",
    "        loss = loss_fn(pred, y.float().unsqueeze(1)) # Wondering about unsqueeze(1)? Check ref3\n",
    "        \n",
    "        # backward propagation\n",
    "        optimizer.zero_grad()\n",
    "        loss.backward()\n",
    "        optimizer.step()\n",
    "        \n",
    "        if batch % 10 == 0:\n",
    "            loss, current = loss.item(), batch * len(X)\n",
    "            loss_list.append(loss)\n",
    "            print(f\"loss: {loss:>7f} [{current:>5d}/{size:>5d}]\")\n",
    "            \n",
    "    return loss_list"
   ]
  },
  {
   "cell_type": "code",
   "execution_count": null,
   "id": "374a4a5f",
   "metadata": {},
   "outputs": [],
   "source": [
    "for t in range(epochs):\n",
    "    print(f\"Epoch {t+1}\\n----------------------------\")\n",
    "    train_loop(tran_loader, CNN_model, bce_loss, adam_optimizer)\n",
    "print(\"Done\")"
   ]
  },
  {
   "cell_type": "code",
   "execution_count": null,
   "id": "57d7e3df",
   "metadata": {},
   "outputs": [],
   "source": []
  },
  {
   "cell_type": "markdown",
   "id": "291f5476",
   "metadata": {},
   "source": [
    "# Step 11: Save model\n",
    "* ref: https://pytorch.org/tutorials/beginner/basics/saveloadrun_tutorial.html"
   ]
  },
  {
   "cell_type": "code",
   "execution_count": null,
   "id": "4fa474ec",
   "metadata": {},
   "outputs": [],
   "source": [
    "torch.save(CNN_model.state_dict(), model_path)"
   ]
  },
  {
   "cell_type": "markdown",
   "id": "a60df909",
   "metadata": {},
   "source": [
    "# Step 12: Load model\n",
    "* ref: https://pytorch.org/tutorials/beginner/basics/saveloadrun_tutorial.html"
   ]
  },
  {
   "cell_type": "code",
   "execution_count": null,
   "id": "9aceb452",
   "metadata": {},
   "outputs": [],
   "source": [
    "CNN_model = CNN_v1(img_size=img_size).to(device)\n",
    "CNN_model.load_state_dict(torch.load(model_path, map_location=torch.device(device)))\n",
    "CNN_model.eval()"
   ]
  },
  {
   "cell_type": "markdown",
   "id": "5371fb2b",
   "metadata": {},
   "source": [
    "# Step 13: Evaluate model"
   ]
  },
  {
   "cell_type": "code",
   "execution_count": null,
   "id": "dd9869eb",
   "metadata": {},
   "outputs": [],
   "source": [
    "pass"
   ]
  },
  {
   "cell_type": "markdown",
   "id": "b2433b4b",
   "metadata": {},
   "source": [
    "# Step 14: Test Imgs"
   ]
  },
  {
   "cell_type": "code",
   "execution_count": null,
   "id": "60eaef6a",
   "metadata": {},
   "outputs": [],
   "source": [
    "import random\n",
    "\n",
    "test_dir_path = \"../../Dataset/Cat_and_Dog/test/test1/\"\n",
    "\n",
    "# pick one image / or directly name this filename\n",
    "chosen_index = random.randint(0,1000)\n",
    "\n",
    "# use custom path\n",
    "test_img_path = test_dir_path+os.listdir(test_dir_path)[chosen_index]\n",
    "\n",
    "# plot the image\n",
    "test_img = cv.imread(test_img_path)\n",
    "plt.imshow(test_img)\n",
    "plt.show()\n",
    "\n",
    "# preprocess the image\n",
    "test_img_numpy = tran_dataset.__preprocess__(test_img_path)\n",
    "\n",
    "#  convert data type from numpy to tensor\n",
    "test_img_tensor = torch.tensor(test_img_numpy).to(device)\n",
    "\n",
    "# add the dim as the batch\n",
    "test_img_tensor = torch.unsqueeze(test_img_tensor, 0).float()\n",
    "\n",
    "with torch.no_grad():\n",
    "    logit = CNN_model(test_img_tensor)\n",
    "    logit = logit.cpu().numpy()[0][0]\n",
    "    if logit > 0:\n",
    "        result = {\"result\": \"dog\", \"logit\": logit}\n",
    "    else:\n",
    "        result = {\"result\": \"cat\", \"logit\": logit}\n",
    "    \n",
    "    print(result)"
   ]
  },
  {
   "cell_type": "code",
   "execution_count": null,
   "id": "bae205c5",
   "metadata": {},
   "outputs": [],
   "source": []
  }
 ],
 "metadata": {
  "kernelspec": {
   "display_name": "Python 3 (ipykernel)",
   "language": "python",
   "name": "python3"
  },
  "language_info": {
   "codemirror_mode": {
    "name": "ipython",
    "version": 3
   },
   "file_extension": ".py",
   "mimetype": "text/x-python",
   "name": "python",
   "nbconvert_exporter": "python",
   "pygments_lexer": "ipython3",
   "version": "3.7.0"
  }
 },
 "nbformat": 4,
 "nbformat_minor": 5
}
